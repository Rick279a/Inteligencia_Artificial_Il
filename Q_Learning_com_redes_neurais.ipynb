{
  "cells": [
    {
      "cell_type": "markdown",
      "metadata": {
        "id": "view-in-github",
        "colab_type": "text"
      },
      "source": [
        "<a href=\"https://colab.research.google.com/github/Rick279a/Inteligencia_Artificial_Il/blob/main/Q_Learning_com_redes_neurais.ipynb\" target=\"_parent\"><img src=\"https://colab.research.google.com/assets/colab-badge.svg\" alt=\"Open In Colab\"/></a>"
      ]
    },
    {
      "cell_type": "markdown",
      "metadata": {
        "id": "poWbLZn8IVd_"
      },
      "source": [
        "Q-Learning é uma técnica de aprendizado de máquina que usa uma rede neural convolucional como aprendizado por reforço para ensinar uma inteligência artificial a ter sucesso em um ambiente, obtendo apenas imagens dele como entrada.\n",
        "\n",
        "As principais diferenças entre o Q-Learning matematico e o Q-Learning com redes neurais estão relacionadas à representação dos estados, uso da memória, escalabilidade e complexidade de implementação."
      ]
    },
    {
      "cell_type": "code",
      "source": [
        "import numpy as np\n",
        "import gym\n",
        "from tensorflow.keras import Sequential\n",
        "from tensorflow.keras.layers import Dense\n",
        "from collections import deque\n",
        "import random\n",
        "\n",
        "# Configuração do ambiente\n",
        "env = gym.make('CartPole-v1')\n",
        "state_size = env.observation_space.shape[0]\n",
        "action_size = env.action_space.n\n",
        "batch_size = 64\n",
        "n_episodes = 500\n",
        "max_steps = 200\n",
        "\n",
        "# Parâmetros do DQN\n",
        "gamma = 0.95\n",
        "epsilon = 1.0\n",
        "epsilon_min = 0.01\n",
        "epsilon_decay = 0.995\n",
        "learning_rate = 0.001\n",
        "\n",
        "# Memória de replay\n",
        "memory = deque(maxlen=1000)\n",
        "\n",
        "# Construindo o modelo da rede neural (com menos neurônios)\n",
        "def build_model():\n",
        "    model = Sequential()\n",
        "    model.add(Dense(16, input_dim=state_size, activation='relu'))\n",
        "    model.add(Dense(16, activation='relu'))\n",
        "    model.add(Dense(action_size, activation='linear'))\n",
        "    model.compile(loss='mse', optimizer='adam')\n",
        "    return model\n",
        "\n",
        "# Função para armazenar as experiências\n",
        "def remember(state, action, reward, next_state, done):\n",
        "    memory.append((state, action, reward, next_state, done))\n",
        "\n",
        "# Escolha de ação usando epsilon-greedy\n",
        "def act(state, model, epsilon):\n",
        "    if np.random.rand() <= epsilon:\n",
        "        return random.randrange(action_size)\n",
        "    act_values = model.predict(state)\n",
        "    return np.argmax(act_values[0])\n",
        "\n",
        "# Replay da memória para treinar a rede\n",
        "def replay(model, batch_size):\n",
        "    global epsilon\n",
        "    if len(memory) < batch_size:\n",
        "        return\n",
        "    minibatch = random.sample(memory, batch_size)\n",
        "    for state, action, reward, next_state, done in minibatch:\n",
        "        target = reward\n",
        "        if not done:\n",
        "            target = reward + gamma * np.amax(model.predict(next_state)[0])\n",
        "        target_f = model.predict(state)\n",
        "        target_f[0][action] = target\n",
        "        model.fit(state, target_f, epochs=1, verbose=0)\n",
        "    if epsilon > epsilon_min:\n",
        "        epsilon *= epsilon_decay\n",
        "\n",
        "# Inicializando o modelo\n",
        "model = build_model()\n",
        "\n",
        "# Loop de treinamento\n",
        "for e in range(n_episodes):\n",
        "    state = env.reset()\n",
        "    state = np.reshape(state, [1, state_size])\n",
        "\n",
        "    for time in range(max_steps):\n",
        "        action = act(state, model, epsilon)\n",
        "        next_state, reward, done, _ = env.step(action)\n",
        "        reward = reward if not done else -10\n",
        "        next_state = np.reshape(next_state, [1, state_size])\n",
        "        remember(state, action, reward, next_state, done)\n",
        "        state = next_state\n",
        "        if done:\n",
        "            print(f\"episódio: {e}/{n_episodes}, score: {time}\")\n",
        "            break\n",
        "        replay(model, batch_size)"
      ],
      "metadata": {
        "id": "asP52skq7DLZ"
      },
      "execution_count": null,
      "outputs": []
    }
  ],
  "metadata": {
    "accelerator": "GPU",
    "colab": {
      "gpuType": "T4",
      "provenance": [],
      "authorship_tag": "ABX9TyONm2+7GfWD3C9DIWT4W7Zc",
      "include_colab_link": true
    },
    "kernelspec": {
      "display_name": "Python 3",
      "name": "python3"
    },
    "language_info": {
      "name": "python"
    }
  },
  "nbformat": 4,
  "nbformat_minor": 0
}